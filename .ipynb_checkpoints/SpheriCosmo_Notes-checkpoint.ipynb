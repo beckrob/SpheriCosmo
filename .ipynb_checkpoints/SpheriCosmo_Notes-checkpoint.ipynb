{
 "cells": [
  {
   "cell_type": "markdown",
   "metadata": {},
   "source": [
    "### Above z=9, assuming EdS cosmology to compute $\\chi_{\\mathrm{CMB}}$\n",
    "\n",
    "In EdS we have $a\\sim t^{2/3}$, so the relation $a(z=9)=C t(z=9)^{2/3}$ gets us $C$.\n",
    "\n",
    "$$ \\tau_{\\mathrm{CMB}} = \\int_{t=0}^{t_{\\mathrm{CMB}}} \\frac{dt'}{a(t')}= \\int_{t=0}^{t_{\\mathrm{CMB}}} \\frac{dt'}{C t'^{2/3}}= 3 \\frac{t_{\\mathrm{CMB}}^{1/3}}{C}$$\n",
    "\n",
    "At the CMB, redshift was $z_{\\mathrm{CMB}}=1089.90$ (from https://arxiv.org/abs/1502.01589), so \n",
    "$$a_{\\mathrm{CMB}}=\\frac{1.0}{1+z_{\\mathrm{CMB}}}=\\frac{1.0}{1090.90}= C t^{2/3}_{\\mathrm{CMB}}$$.\n",
    "\n",
    "With this, we can compute $\\tau_{\\mathrm{CMB}}$.\n",
    "\n",
    "We also need to extend cosmological functions including $D$ and $\\frac{dD}{d\\tau}$.\n",
    "\n",
    "\n",
    "The definition of growth function:\n",
    "$$\n",
    "D_1(z) = {H(z) \\over H_0} \\int_{z}^{\\infty} {(1+z^{'}) \\over H^3(z^{'})} dz^{'} \\\n",
    "   \\left[ \\int_{0}^{\\infty} {(1+z^{'}) \\over H^3(z^{'})}dz^{'}  \\right]^{-1}\n",
    "$$\n",
    "Above $z=9$ we assume that all models are equal. For EdS, \n",
    "$$ H= {\\dot a \\over a} = {2\\over3} t^{-1} = {2\\over3} t_0^{-1} a^{-3/2} = {2\\over3} t_0^{-1} (1+z)^{3/2} = H_0 (1+z)^{3/2}$$ \n",
    "\n",
    "$$H_0={2\\over3t_0} {\\ \\rm and \\ } t_0={2\\over3H_0}, {\\ \\rm using \\ EdS \\ parameters \\ }$$\n",
    "\n",
    "$$\\int_{z}^{\\infty} F = \\int_{0}^{9.0} F + \\int_{9.0}^{\\infty} F_{EdS} - \\int_{0}^{z} F$$\n",
    "\n",
    "$$\\int_{0.0}^{\\infty} F = \\int_{0}^{9.0} F + \\int_{9.0}^{\\infty} F_{EdS} $$\n",
    "\n",
    "**EdS:**\n",
    "\n",
    "$$\n",
    "\\int_{9.0}^{\\infty} {(1+z^{'}) \\over H^3(z^{'})}dz^{'} = t_0^3 {27\\over8} \\int_{9.0}^{\\infty} {(1+z^{'}) \\over (1+z^{'})^{9/2} }dz^{'} = \n",
    "t_0^3 {27\\over8}  \\left[ { -2 \\over 5 (1 + x)^{5/2} }\\right]_{9.0}^{\\infty}  = t_0^3 {27\\over8}  {1 \\over 250 \\sqrt{10}} = 0.0042690375 t_0^3\n",
    "$$\n",
    "\n",
    "$$\n",
    "\\int_{0.0}^{\\infty} {(1+z^{'}) \\over H^3(z^{'})}dz^{'} = 1.35 t_0^3$$"
   ]
  },
  {
   "cell_type": "markdown",
   "metadata": {},
   "source": [
    "## Apodization and thetamax\n",
    "\n",
    "Based on http://www2.iap.fr/users/hivon/software/PolSpice/faq.html\n",
    "\n",
    "Full sky is 41252.96 square degrees, times sky coverage, square rooted to get degree size"
   ]
  },
  {
   "cell_type": "markdown",
   "metadata": {},
   "source": [
    "# Template map subtraction\n",
    "\n",
    "The residual due to the depth maps is a weighted sum of the depth maps. Redshift bins are indexed by $i,j$. The filters of the depth maps are indexed by $f,f'$.\n",
    "\n",
    "\n",
    "\n",
    "$$\\delta_i = \\delta_{i,\\mathrm{gal}} + \\delta_{i,\\mathrm{res}}$$\n",
    "\n",
    "$$\\delta_{i,\\mathrm{res}} = \\sum_f \\lambda_{i,f} \\delta_f$$\n",
    "\n",
    "$$ \\left< \\delta_i \\delta_f \\right> = \\sum_{f'} \\lambda_{i,f'} \\left< \\delta_{f'} \\delta_f \\right> =   \\lambda_{i,f} \\left< \\delta_f \\delta_f \\right> $$\n",
    "\n",
    "\n",
    "$$ \\left< \\delta_i \\delta_T \\right> = \\left< \\delta_{i,\\mathrm{gal}} \\delta_T \\right> + \\left< \\delta_{i,\\mathrm{res}} \\delta_T \\right> = \\left< \\delta_{i,\\mathrm{gal}} \\delta_T \\right> + \\sum_f \\lambda_{i,f} \\left< \\delta_f \\delta_T \\right>$$\n",
    "\n"
   ]
  },
  {
   "cell_type": "code",
   "execution_count": null,
   "metadata": {
    "collapsed": true
   },
   "outputs": [],
   "source": []
  }
 ],
 "metadata": {
  "kernelspec": {
   "display_name": "Python 3",
   "language": "python",
   "name": "python3"
  },
  "language_info": {
   "codemirror_mode": {
    "name": "ipython",
    "version": 3
   },
   "file_extension": ".py",
   "mimetype": "text/x-python",
   "name": "python",
   "nbconvert_exporter": "python",
   "pygments_lexer": "ipython3",
   "version": "3.6.3"
  }
 },
 "nbformat": 4,
 "nbformat_minor": 2
}
